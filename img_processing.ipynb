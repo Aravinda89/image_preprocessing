{
 "cells": [
  {
   "cell_type": "code",
   "execution_count": 6,
   "id": "f96fbe17-fe43-4ab8-97ec-8ab4633a7e85",
   "metadata": {},
   "outputs": [],
   "source": [
    "from PIL import Image\n",
    "import glob\n",
    "import os\n",
    "from tqdm import tqdm"
   ]
  },
  {
   "cell_type": "code",
   "execution_count": 12,
   "id": "cc93de0a-be0c-4ef2-b4bd-ad66f9579e73",
   "metadata": {},
   "outputs": [],
   "source": [
    "img_list = glob.glob('C:\\\\Users\\\\aravi\\\\Documents\\\\Projects\\\\COVR\\\\cooktop_damage\\\\OneDrive_2024-11-25\\\\Pictures of broken Hobs\\\\*')\n",
    "# img_list = glob.glob('C:\\\\Users\\\\aravi\\\\Documents\\\\Projects\\\\COVR\\\\cooktop_damage\\\\OneDrive_2024-11-25\\\\Pictures of broken Hobs\\\\*.avif')"
   ]
  },
  {
   "cell_type": "code",
   "execution_count": 13,
   "id": "2f417305-07b8-46d4-bb73-5ecdf140b4d1",
   "metadata": {},
   "outputs": [
    {
     "data": {
      "text/plain": [
       "5"
      ]
     },
     "execution_count": 13,
     "metadata": {},
     "output_type": "execute_result"
    }
   ],
   "source": [
    "len(img_list)"
   ]
  },
  {
   "cell_type": "code",
   "execution_count": 19,
   "id": "f44f605c-8032-4d11-a11a-2fb6550f691d",
   "metadata": {},
   "outputs": [
    {
     "name": "stderr",
     "output_type": "stream",
     "text": [
      "  0%|                                                                                            | 0/5 [00:00<?, ?it/s]"
     ]
    },
    {
     "name": "stdout",
     "output_type": "stream",
     "text": [
      "215ea162-801e-4fe2-a5f5-07f83f627b39.avif\n",
      "215ea162-801e-4fe2-a5f5-07f83f627b39\n",
      "cannot identify image file 'C:\\\\Users\\\\aravi\\\\Documents\\\\Projects\\\\COVR\\\\cooktop_damage\\\\OneDrive_2024-11-25\\\\Pictures of broken Hobs\\\\215ea162-801e-4fe2-a5f5-07f83f627b39.avif'\n",
      "Error:  215ea162-801e-4fe2-a5f5-07f83f627b39.avif\n"
     ]
    },
    {
     "name": "stderr",
     "output_type": "stream",
     "text": [
      "\n"
     ]
    }
   ],
   "source": [
    "for img_path in tqdm(img_list):\n",
    "    try:\n",
    "        img_name = os.path.split(img_path)[1]\n",
    "        print(img_name)\n",
    "        fname, _ = os.path.splitext(img_name)\n",
    "        print(fname)\n",
    "    \n",
    "        im = Image.open(img_path)\n",
    "        rgb_im = im.convert('RGB')\n",
    "        \n",
    "        # rgb_im.save(''.join([fname,'.jpg']))\n",
    "        rgb_im.save('.\\\\output_imgs\\\\'+'{}{}'.format(fname,'.jpg'))\n",
    "        # rgb_im.save('.\\\\'+'{}{}'.format(fname,'.png'))\n",
    "    except Exception as e: \n",
    "        print(e)\n",
    "        print('Error: ', img_name)\n",
    "        continue"
   ]
  },
  {
   "cell_type": "code",
   "execution_count": 21,
   "id": "88a6393d-20a7-4fce-a9db-d37591fde40b",
   "metadata": {},
   "outputs": [
    {
     "data": {
      "text/plain": [
       "171"
      ]
     },
     "execution_count": 21,
     "metadata": {},
     "output_type": "execute_result"
    }
   ],
   "source": [
    "img_list = glob.glob('C:\\\\Users\\\\aravi\\\\Documents\\\\Projects\\\\COVR\\\\cooktop_damage\\\\OneDrive_2024-11-25\\\\Pictures of broken Hobs_jpg\\\\*.jpg')\n",
    "len(img_list)"
   ]
  },
  {
   "cell_type": "code",
   "execution_count": 22,
   "id": "a09c8fc6-5a49-4881-a485-d4a3a2bfdfc1",
   "metadata": {},
   "outputs": [],
   "source": [
    "for i in img_list:\n",
    "    try:\n",
    "        with Image.open(i) as img:\n",
    "            img.verify()\n",
    "    except:\n",
    "        print(i)\n",
    "        continue"
   ]
  },
  {
   "cell_type": "code",
   "execution_count": null,
   "id": "3bb2f662-8cbc-48ca-93c6-3949de202b98",
   "metadata": {},
   "outputs": [],
   "source": []
  }
 ],
 "metadata": {
  "kernelspec": {
   "display_name": "TF_env",
   "language": "python",
   "name": "tf_env"
  },
  "language_info": {
   "codemirror_mode": {
    "name": "ipython",
    "version": 3
   },
   "file_extension": ".py",
   "mimetype": "text/x-python",
   "name": "python",
   "nbconvert_exporter": "python",
   "pygments_lexer": "ipython3",
   "version": "3.9.18"
  }
 },
 "nbformat": 4,
 "nbformat_minor": 5
}
