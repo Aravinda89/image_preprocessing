{
 "cells": [
  {
   "cell_type": "code",
   "execution_count": 37,
   "id": "92f66145-2182-4e94-8c16-40b0c2e8bfaf",
   "metadata": {},
   "outputs": [],
   "source": [
    "import glob\n",
    "import os\n",
    "import shutil"
   ]
  },
  {
   "cell_type": "code",
   "execution_count": 28,
   "id": "8dc50a62-539a-42d5-934d-aff9ea3fd821",
   "metadata": {},
   "outputs": [],
   "source": [
    "all_imgs = [os.path.split(i)[1] for i in glob.glob('C:\\\\Users\\\\aravi\\\\Documents\\\\Projects\\\\COVR\\\\cooktop_damage\\\\OneDrive_2024-11-25\\\\Pictures of broken Hobs_jpg\\\\*')]"
   ]
  },
  {
   "cell_type": "code",
   "execution_count": 20,
   "id": "9b388bb7-2627-4b65-bb9e-3058090b9d53",
   "metadata": {},
   "outputs": [
    {
     "data": {
      "text/plain": [
       "171"
      ]
     },
     "execution_count": 20,
     "metadata": {},
     "output_type": "execute_result"
    }
   ],
   "source": [
    "len(all_imgs)"
   ]
  },
  {
   "cell_type": "code",
   "execution_count": 30,
   "id": "3ab97316-91d4-4cfe-b270-5049e6c79c00",
   "metadata": {},
   "outputs": [
    {
     "data": {
      "text/plain": [
       "['117938414_1982225581913030_248299813359644737_n.jpg',\n",
       " '2021121221441288691.jpg',\n",
       " '2024-11-05 at 16-08-33 Milanuncios - Vitrocerámica TEKA.jpg']"
      ]
     },
     "execution_count": 30,
     "metadata": {},
     "output_type": "execute_result"
    }
   ],
   "source": [
    "all_imgs[:3]"
   ]
  },
  {
   "cell_type": "code",
   "execution_count": 31,
   "id": "745d1daa-16f2-41c8-b23b-db5e1d14609e",
   "metadata": {},
   "outputs": [],
   "source": [
    "selected_imgs = [os.path.split(i)[1] for i in glob.glob('C:\\\\Users\\\\aravi\\\\Documents\\\\Projects\\\\COVR\\\\cooktop_damage\\\\OneDrive_2024-11-25\\\\fullface_cooktops\\\\*')]"
   ]
  },
  {
   "cell_type": "code",
   "execution_count": 32,
   "id": "1f57786b-1665-4e7b-8af3-b70657280bd6",
   "metadata": {},
   "outputs": [
    {
     "data": {
      "text/plain": [
       "103"
      ]
     },
     "execution_count": 32,
     "metadata": {},
     "output_type": "execute_result"
    }
   ],
   "source": [
    "len(selected_imgs)"
   ]
  },
  {
   "cell_type": "code",
   "execution_count": 33,
   "id": "ff17a957-9acb-42fe-8754-7ae3421d3f3e",
   "metadata": {},
   "outputs": [
    {
     "data": {
      "text/plain": [
       "['117938414_1982225581913030_248299813359644737_n.jpg',\n",
       " '2024-11-05 at 16-08-33 Milanuncios - Vitrocerámica TEKA.jpg',\n",
       " '20240614_203129-scaled.jpg']"
      ]
     },
     "execution_count": 33,
     "metadata": {},
     "output_type": "execute_result"
    }
   ],
   "source": [
    "selected_imgs[:3]"
   ]
  },
  {
   "cell_type": "code",
   "execution_count": 34,
   "id": "9085edf6-4c8b-4669-bf6c-84ca136c3c6e",
   "metadata": {},
   "outputs": [],
   "source": [
    "remaining_imgs = [i for i in all_imgs if i not in selected_imgs]"
   ]
  },
  {
   "cell_type": "code",
   "execution_count": 35,
   "id": "975442fe-07a1-44df-bbfe-b545758b268c",
   "metadata": {},
   "outputs": [
    {
     "data": {
      "text/plain": [
       "68"
      ]
     },
     "execution_count": 35,
     "metadata": {},
     "output_type": "execute_result"
    }
   ],
   "source": [
    "len(remaining_imgs)"
   ]
  },
  {
   "cell_type": "code",
   "execution_count": 39,
   "id": "2fe51df1-7498-426f-bb6b-ac9ab215bd77",
   "metadata": {},
   "outputs": [
    {
     "data": {
      "text/plain": [
       "['2021121221441288691.jpg',\n",
       " '616eJtNcsLL._UX250_.jpg',\n",
       " '94-DBB36-F-9-D7-F-494-F-BC2-B-2-D4022-E2-CE67.jpg',\n",
       " 'Apell-AP63TCE1-1-600x600.jpg',\n",
       " 'Apell-AP63TCE1-2.jpg']"
      ]
     },
     "execution_count": 39,
     "metadata": {},
     "output_type": "execute_result"
    }
   ],
   "source": [
    "remaining_imgs[:5]"
   ]
  },
  {
   "cell_type": "code",
   "execution_count": 42,
   "id": "1bb71aad-036d-422f-8879-bb7f70e234e0",
   "metadata": {},
   "outputs": [],
   "source": [
    "# src = 'C:\\\\Users\\\\aravi\\\\Documents\\\\Projects\\\\COVR\\\\cooktop_damage\\\\OneDrive_2024-11-25\\\\Pictures of broken Hobs_jpg'\n",
    "# dst = 'C:\\\\Users\\\\aravi\\\\Documents\\\\Projects\\\\COVR\\\\cooktop_damage\\\\OneDrive_2024-11-25\\\\partial'\n",
    "\n",
    "# for fname in remaining_imgs:\n",
    "#     shutil.copyfile(os.path.join(src,fname), os.path.join(dst,fname))"
   ]
  },
  {
   "cell_type": "code",
   "execution_count": null,
   "id": "826f435b-6f13-4068-8996-625f98dc6466",
   "metadata": {},
   "outputs": [],
   "source": []
  }
 ],
 "metadata": {
  "kernelspec": {
   "display_name": "TF_env",
   "language": "python",
   "name": "tf_env"
  },
  "language_info": {
   "codemirror_mode": {
    "name": "ipython",
    "version": 3
   },
   "file_extension": ".py",
   "mimetype": "text/x-python",
   "name": "python",
   "nbconvert_exporter": "python",
   "pygments_lexer": "ipython3",
   "version": "3.9.18"
  }
 },
 "nbformat": 4,
 "nbformat_minor": 5
}
