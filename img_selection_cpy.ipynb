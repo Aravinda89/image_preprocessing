{
 "cells": [
  {
   "cell_type": "code",
   "execution_count": 1,
   "id": "92f66145-2182-4e94-8c16-40b0c2e8bfaf",
   "metadata": {},
   "outputs": [],
   "source": [
    "import glob\n",
    "import os\n",
    "import shutil"
   ]
  },
  {
   "cell_type": "code",
   "execution_count": 2,
   "id": "8dc50a62-539a-42d5-934d-aff9ea3fd821",
   "metadata": {},
   "outputs": [],
   "source": [
    "all_imgs = [os.path.split(i)[1] for i in glob.glob('C:\\\\Users\\\\aravi\\\\Documents\\\\Projects\\\\COVR\\\\cooktop_damage\\\\upload_12_20\\\\undamaged_jpg\\\\*')]"
   ]
  },
  {
   "cell_type": "code",
   "execution_count": 3,
   "id": "9b388bb7-2627-4b65-bb9e-3058090b9d53",
   "metadata": {},
   "outputs": [
    {
     "data": {
      "text/plain": [
       "891"
      ]
     },
     "execution_count": 3,
     "metadata": {},
     "output_type": "execute_result"
    }
   ],
   "source": [
    "len(all_imgs)"
   ]
  },
  {
   "cell_type": "code",
   "execution_count": 4,
   "id": "3ab97316-91d4-4cfe-b270-5049e6c79c00",
   "metadata": {},
   "outputs": [
    {
     "data": {
      "text/plain": [
       "['00104742029129____3__1200x1200.jpg',\n",
       " '00104742029129____4__1200x1200.jpg',\n",
       " '1619-infiniton-ind-3nta-placa-de-induccion-3-zonas-negra.jpg']"
      ]
     },
     "execution_count": 4,
     "metadata": {},
     "output_type": "execute_result"
    }
   ],
   "source": [
    "all_imgs[:3]"
   ]
  },
  {
   "cell_type": "code",
   "execution_count": 31,
   "id": "745d1daa-16f2-41c8-b23b-db5e1d14609e",
   "metadata": {},
   "outputs": [],
   "source": [
    "selected_imgs = [os.path.split(i)[1] for i in glob.glob('C:\\\\Users\\\\aravi\\\\Documents\\\\Projects\\\\COVR\\\\cooktop_damage\\\\OneDrive_2024-11-25\\\\fullface_cooktops\\\\*')]"
   ]
  },
  {
   "cell_type": "code",
   "execution_count": 32,
   "id": "1f57786b-1665-4e7b-8af3-b70657280bd6",
   "metadata": {},
   "outputs": [
    {
     "data": {
      "text/plain": [
       "103"
      ]
     },
     "execution_count": 32,
     "metadata": {},
     "output_type": "execute_result"
    }
   ],
   "source": [
    "len(selected_imgs)"
   ]
  },
  {
   "cell_type": "code",
   "execution_count": 33,
   "id": "ff17a957-9acb-42fe-8754-7ae3421d3f3e",
   "metadata": {},
   "outputs": [
    {
     "data": {
      "text/plain": [
       "['117938414_1982225581913030_248299813359644737_n.jpg',\n",
       " '2024-11-05 at 16-08-33 Milanuncios - Vitrocerámica TEKA.jpg',\n",
       " '20240614_203129-scaled.jpg']"
      ]
     },
     "execution_count": 33,
     "metadata": {},
     "output_type": "execute_result"
    }
   ],
   "source": [
    "selected_imgs[:3]"
   ]
  },
  {
   "cell_type": "code",
   "execution_count": 34,
   "id": "9085edf6-4c8b-4669-bf6c-84ca136c3c6e",
   "metadata": {},
   "outputs": [],
   "source": [
    "remaining_imgs = [i for i in all_imgs if i not in selected_imgs]"
   ]
  },
  {
   "cell_type": "code",
   "execution_count": 35,
   "id": "975442fe-07a1-44df-bbfe-b545758b268c",
   "metadata": {},
   "outputs": [
    {
     "data": {
      "text/plain": [
       "68"
      ]
     },
     "execution_count": 35,
     "metadata": {},
     "output_type": "execute_result"
    }
   ],
   "source": [
    "len(remaining_imgs)"
   ]
  },
  {
   "cell_type": "code",
   "execution_count": 39,
   "id": "2fe51df1-7498-426f-bb6b-ac9ab215bd77",
   "metadata": {},
   "outputs": [
    {
     "data": {
      "text/plain": [
       "['2021121221441288691.jpg',\n",
       " '616eJtNcsLL._UX250_.jpg',\n",
       " '94-DBB36-F-9-D7-F-494-F-BC2-B-2-D4022-E2-CE67.jpg',\n",
       " 'Apell-AP63TCE1-1-600x600.jpg',\n",
       " 'Apell-AP63TCE1-2.jpg']"
      ]
     },
     "execution_count": 39,
     "metadata": {},
     "output_type": "execute_result"
    }
   ],
   "source": [
    "remaining_imgs[:5]"
   ]
  },
  {
   "cell_type": "code",
   "execution_count": 42,
   "id": "1bb71aad-036d-422f-8879-bb7f70e234e0",
   "metadata": {},
   "outputs": [],
   "source": [
    "# src = 'C:\\\\Users\\\\aravi\\\\Documents\\\\Projects\\\\COVR\\\\cooktop_damage\\\\OneDrive_2024-11-25\\\\Pictures of broken Hobs_jpg'\n",
    "# dst = 'C:\\\\Users\\\\aravi\\\\Documents\\\\Projects\\\\COVR\\\\cooktop_damage\\\\OneDrive_2024-11-25\\\\partial'\n",
    "\n",
    "# for fname in remaining_imgs:\n",
    "#     shutil.copyfile(os.path.join(src,fname), os.path.join(dst,fname))"
   ]
  },
  {
   "cell_type": "markdown",
   "id": "b8aa5722-cb21-4d7b-8343-df44a8bbe0e3",
   "metadata": {},
   "source": [
    "Random Selection"
   ]
  },
  {
   "cell_type": "code",
   "execution_count": 5,
   "id": "5fc4ae87-0a52-4034-aa15-c336bd67d037",
   "metadata": {},
   "outputs": [],
   "source": [
    "import random"
   ]
  },
  {
   "cell_type": "code",
   "execution_count": 6,
   "id": "57864d00-b382-4ecd-acab-f284fdfaf8ef",
   "metadata": {},
   "outputs": [],
   "source": [
    "all_imgs = [os.path.split(i)[1] for i in glob.glob('C:\\\\Users\\\\aravi\\\\Documents\\\\Projects\\\\COVR\\\\cooktop_damage\\\\upload_12_20\\\\undamaged_jpg\\\\*')]"
   ]
  },
  {
   "cell_type": "code",
   "execution_count": 7,
   "id": "0857815a-215f-4029-a6d4-3c48771ac51c",
   "metadata": {},
   "outputs": [
    {
     "data": {
      "text/plain": [
       "891"
      ]
     },
     "execution_count": 7,
     "metadata": {},
     "output_type": "execute_result"
    }
   ],
   "source": [
    "len(all_imgs)"
   ]
  },
  {
   "cell_type": "code",
   "execution_count": 8,
   "id": "06047a29-8667-4e38-815f-448ed0d949cd",
   "metadata": {},
   "outputs": [],
   "source": [
    "radnom_list = random.sample(all_imgs, 150)"
   ]
  },
  {
   "cell_type": "code",
   "execution_count": 9,
   "id": "c5450137-309f-4763-aa26-9e16b322121c",
   "metadata": {},
   "outputs": [
    {
     "data": {
      "text/plain": [
       "150"
      ]
     },
     "execution_count": 9,
     "metadata": {},
     "output_type": "execute_result"
    }
   ],
   "source": [
    "len(radnom_list)"
   ]
  },
  {
   "cell_type": "code",
   "execution_count": 10,
   "id": "af467739-f991-4aa9-952e-d63c35f77598",
   "metadata": {
    "scrolled": true
   },
   "outputs": [
    {
     "data": {
      "text/plain": [
       "['i5238446667.jpg',\n",
       " 'i5273542243.jpg',\n",
       " 'ASSET_MMS_136310051.jpg',\n",
       " 'i5223170085.jpg',\n",
       " 'i4899803807.jpg',\n",
       " 'i5292520535.jpg',\n",
       " 'i5042345635 (1).jpg',\n",
       " 'i5269719317.jpg',\n",
       " 'i5305413537 (1).jpg',\n",
       " 'i4763227182.jpg',\n",
       " 'goods_image_311337_322916074062285970_1.jpg',\n",
       " 'i5260538230.jpg',\n",
       " 'i5279977205.jpg',\n",
       " 'i5204427998.jpg',\n",
       " 'i5300766544.jpg',\n",
       " 'i5243825760.jpg',\n",
       " 'i5303799376.jpg',\n",
       " 'i5302404753.jpg',\n",
       " 'i5306244455.jpg',\n",
       " 'i5226333759.jpg',\n",
       " 'i4905062736.jpg',\n",
       " 'i5257270855.jpg',\n",
       " 'i4727518550.jpg',\n",
       " 'i5286207993.jpg',\n",
       " 'i5147462321 (1).jpg',\n",
       " '1944-cecotec-bolero-squad-i-3200-placa-de-induccion-3-zonas-negra.jpg',\n",
       " 'i5287889728.jpg',\n",
       " 'i5252868498.jpg',\n",
       " 'i5263223941.jpg',\n",
       " 'i5239214122.jpg',\n",
       " 'ASSET_MMS_100815130.jpg',\n",
       " 'i5266373632.jpg',\n",
       " 'i5301084881.jpg',\n",
       " 'i5179129189.jpg',\n",
       " 'i5302505842.jpg',\n",
       " 'i4642974252.jpg',\n",
       " 'i4814725075.jpg',\n",
       " 'i5174478609.jpg',\n",
       " 'ASSET_MP_145143761.jpg',\n",
       " 'i5256837704.jpg',\n",
       " 'i5202288347 (1).jpg',\n",
       " 'i5258297317.jpg',\n",
       " 'i5301718262.jpg',\n",
       " 'i5259308183.jpg',\n",
       " 'i5301257490.jpg',\n",
       " 'goods_image_311340_8381697767818720258_1.jpg',\n",
       " 'i5057704428.jpg',\n",
       " 'i5151361051.jpg',\n",
       " 'i5198237764.jpg',\n",
       " 'placa-induccion-hisense-hi6321bsolce-3-zonas-de-coccion-flex-negro.jpg',\n",
       " 'i5307052142.jpg',\n",
       " 'i5266854344.jpg',\n",
       " 'i5302404488.jpg',\n",
       " 'i5201660363 (1).jpg',\n",
       " 'i5226288235.jpg',\n",
       " 'i5144048859.jpg',\n",
       " 'VITROCERAMICA_INDUCCION_SAUBER_SERIE_1-6600-1.jpg',\n",
       " 'i5191746726.jpg',\n",
       " 'i5300957655.jpg',\n",
       " 'i5296198864.jpg',\n",
       " 'i5246103856.jpg',\n",
       " 'i5252588498.jpg',\n",
       " 'i5226304012.jpg',\n",
       " 'i5259083201.jpg',\n",
       " 'i5288843060.jpg',\n",
       " 'i5243825777.jpg',\n",
       " 'i5138158975.jpg',\n",
       " 'i3096404013.jpg',\n",
       " 'i5230634296.jpg',\n",
       " 'i5285266178.jpg',\n",
       " 'i4782022950.jpg',\n",
       " 'i5090494465.jpg',\n",
       " 'i5196662989.jpg',\n",
       " 'i5132616199.jpg',\n",
       " 'i5305413634.jpg',\n",
       " 'i4758820484.jpg',\n",
       " 'i5270937361.jpg',\n",
       " 'i5223169996.jpg',\n",
       " 'i5201603824.jpg',\n",
       " '561444-800-auto.jpg',\n",
       " 'i5256747754.jpg',\n",
       " 'cooktop_eletrico_4_bocas_220v_cca40p2_midea_92080996_e28a_600x600.jpg',\n",
       " 'i3252910121.jpg',\n",
       " 'i5267653321.jpg',\n",
       " 'cq5dam.web.5000.5000.jpg',\n",
       " 'i5248335364.jpg',\n",
       " 'cq5dam.web.5000.5000 (5).jpg',\n",
       " 'i5243825777 (1).jpg',\n",
       " 'i4805748790.jpg',\n",
       " 'goods_image_311334_5996316687808017186_2.jpg',\n",
       " 'i4862416551.jpg',\n",
       " 'i5198381231.jpg',\n",
       " 'cq5dam.web.5000.5000 (4).jpg',\n",
       " 'i5295471336.jpg',\n",
       " 'i5261134251.jpg',\n",
       " 'i5150738045.jpg',\n",
       " 'i5263625735.jpg',\n",
       " 'i5305064872.jpg',\n",
       " 'i5052507894.jpg',\n",
       " 'i5301257445.jpg',\n",
       " 'cooktop_eletrico_4_bocas_220v_cca40p2_midea_92080996_6560_600x600.jpg',\n",
       " 'i4758820530.jpg',\n",
       " 'i5284134535.jpg',\n",
       " 'i4911744540.jpg',\n",
       " 'i5291240030.jpg',\n",
       " 'i5260501307.jpg',\n",
       " 'i4879652561.jpg',\n",
       " 'i5261786751.jpg',\n",
       " 'i5305930818.jpg',\n",
       " 'i5265615947.jpg',\n",
       " 'i5285800359.jpg',\n",
       " 'i5230634296 (1).jpg',\n",
       " 'i5147462197.jpg',\n",
       " 'i5246103849 (1).jpg',\n",
       " 'i5239214192.jpg',\n",
       " 'i3055493708.jpg',\n",
       " 'i5223526234.jpg',\n",
       " '00104742029129____3__1200x1200.jpg',\n",
       " 'i5291240021.jpg',\n",
       " 'i5230831645.jpg',\n",
       " 'i5296779314.jpg',\n",
       " 'i5186209915.jpg',\n",
       " 'i5305956357.jpg',\n",
       " 'i5305672844.jpg',\n",
       " 'i5178476340.jpg',\n",
       " 'i5099835134 (1).jpg',\n",
       " 'i5267653315.jpg',\n",
       " 'i5261786736.jpg',\n",
       " 'i5290845825.jpg',\n",
       " 'i5251091772.jpg',\n",
       " 'i5274579196.jpg',\n",
       " 'i4805748846 (1).jpg',\n",
       " 'i5174478517.jpg',\n",
       " 'i5099834975.jpg',\n",
       " 'i4850734324.jpg',\n",
       " 'i5026221293.jpg',\n",
       " 'i5266373756.jpg',\n",
       " '51694160_extra_large.jpg',\n",
       " 'i5295387293.jpg',\n",
       " 'i5118219368.jpg',\n",
       " 'i5301257385.jpg',\n",
       " 'i4727518537.jpg',\n",
       " 'i5306925946.jpg',\n",
       " 'i5308486850.jpg',\n",
       " 'i5176908750.jpg',\n",
       " 'i4814725070.jpg',\n",
       " 'i5246103838 (1).jpg',\n",
       " 'i5215542005.jpg',\n",
       " 'i5296779242.jpg',\n",
       " 'i5234253076.jpg']"
      ]
     },
     "execution_count": 10,
     "metadata": {},
     "output_type": "execute_result"
    }
   ],
   "source": [
    "radnom_list"
   ]
  },
  {
   "cell_type": "code",
   "execution_count": 11,
   "id": "eaee463e-5446-459a-a92c-f79ead3de738",
   "metadata": {},
   "outputs": [],
   "source": [
    "src = 'C:\\\\Users\\\\aravi\\\\Documents\\\\Projects\\\\COVR\\\\cooktop_damage\\\\upload_12_20\\\\undamaged_jpg'\n",
    "dst = 'C:\\\\Users\\\\aravi\\\\Documents\\\\Projects\\\\COVR\\\\cooktop_damage\\\\upload_12_20\\\\random_undamaged_imgs'\n",
    "\n",
    "for fname in radnom_list:\n",
    "    shutil.copyfile(os.path.join(src,fname), os.path.join(dst,fname))"
   ]
  },
  {
   "cell_type": "code",
   "execution_count": null,
   "id": "80d05f45-44ec-4119-885d-d7ffa93a6c16",
   "metadata": {},
   "outputs": [],
   "source": []
  }
 ],
 "metadata": {
  "kernelspec": {
   "display_name": "TF_env",
   "language": "python",
   "name": "tf_env"
  },
  "language_info": {
   "codemirror_mode": {
    "name": "ipython",
    "version": 3
   },
   "file_extension": ".py",
   "mimetype": "text/x-python",
   "name": "python",
   "nbconvert_exporter": "python",
   "pygments_lexer": "ipython3",
   "version": "3.9.18"
  }
 },
 "nbformat": 4,
 "nbformat_minor": 5
}
