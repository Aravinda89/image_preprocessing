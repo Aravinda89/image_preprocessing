{
 "cells": [
  {
   "cell_type": "code",
   "execution_count": 13,
   "id": "b5bb8791",
   "metadata": {},
   "outputs": [],
   "source": [
    "import pandas as pd\n",
    "from shutil import copyfile\n",
    "import os"
   ]
  },
  {
   "cell_type": "code",
   "execution_count": 2,
   "id": "bc2acc11",
   "metadata": {},
   "outputs": [
    {
     "data": {
      "text/html": [
       "<div>\n",
       "<style scoped>\n",
       "    .dataframe tbody tr th:only-of-type {\n",
       "        vertical-align: middle;\n",
       "    }\n",
       "\n",
       "    .dataframe tbody tr th {\n",
       "        vertical-align: top;\n",
       "    }\n",
       "\n",
       "    .dataframe thead th {\n",
       "        text-align: right;\n",
       "    }\n",
       "</style>\n",
       "<table border=\"1\" class=\"dataframe\">\n",
       "  <thead>\n",
       "    <tr style=\"text-align: right;\">\n",
       "      <th></th>\n",
       "      <th>filename</th>\n",
       "      <th>cooktop</th>\n",
       "      <th>burner</th>\n",
       "      <th>brand</th>\n",
       "      <th>model</th>\n",
       "      <th>induction</th>\n",
       "      <th>damage</th>\n",
       "    </tr>\n",
       "  </thead>\n",
       "  <tbody>\n",
       "    <tr>\n",
       "      <th>0</th>\n",
       "      <td>220d5423-5fee-4710-8fe2-acc4b01b9aed.jpg</td>\n",
       "      <td>1</td>\n",
       "      <td>3</td>\n",
       "      <td>1</td>\n",
       "      <td>0</td>\n",
       "      <td>1</td>\n",
       "      <td>0</td>\n",
       "    </tr>\n",
       "    <tr>\n",
       "      <th>1</th>\n",
       "      <td>48cbe9f7-d6ad-423d-9a69-af0c5094b7c0.jpg</td>\n",
       "      <td>1</td>\n",
       "      <td>3</td>\n",
       "      <td>1</td>\n",
       "      <td>0</td>\n",
       "      <td>0</td>\n",
       "      <td>0</td>\n",
       "    </tr>\n",
       "    <tr>\n",
       "      <th>2</th>\n",
       "      <td>1549bf4d-28e2-479d-87ac-564124d0cdfd.jpg</td>\n",
       "      <td>1</td>\n",
       "      <td>2</td>\n",
       "      <td>1</td>\n",
       "      <td>0</td>\n",
       "      <td>0</td>\n",
       "      <td>0</td>\n",
       "    </tr>\n",
       "    <tr>\n",
       "      <th>3</th>\n",
       "      <td>a543fe88-5686-4841-9eed-0ed428902d9f.jpg</td>\n",
       "      <td>1</td>\n",
       "      <td>3</td>\n",
       "      <td>1</td>\n",
       "      <td>0</td>\n",
       "      <td>0</td>\n",
       "      <td>0</td>\n",
       "    </tr>\n",
       "    <tr>\n",
       "      <th>4</th>\n",
       "      <td>5ba64b08-5223-4761-b02f-8bf34c6ce222.jpg</td>\n",
       "      <td>1</td>\n",
       "      <td>3</td>\n",
       "      <td>1</td>\n",
       "      <td>0</td>\n",
       "      <td>0</td>\n",
       "      <td>0</td>\n",
       "    </tr>\n",
       "    <tr>\n",
       "      <th>...</th>\n",
       "      <td>...</td>\n",
       "      <td>...</td>\n",
       "      <td>...</td>\n",
       "      <td>...</td>\n",
       "      <td>...</td>\n",
       "      <td>...</td>\n",
       "      <td>...</td>\n",
       "    </tr>\n",
       "    <tr>\n",
       "      <th>2099</th>\n",
       "      <td>55936313-2d06-4ef8-90df-aa725d963de8.jpg</td>\n",
       "      <td>1</td>\n",
       "      <td>4</td>\n",
       "      <td>1</td>\n",
       "      <td>1</td>\n",
       "      <td>0</td>\n",
       "      <td>1</td>\n",
       "    </tr>\n",
       "    <tr>\n",
       "      <th>2100</th>\n",
       "      <td>4937e5b6-9ead-44fe-b0cb-dad6da2954f4.jpg</td>\n",
       "      <td>1</td>\n",
       "      <td>3</td>\n",
       "      <td>1</td>\n",
       "      <td>0</td>\n",
       "      <td>0</td>\n",
       "      <td>3</td>\n",
       "    </tr>\n",
       "    <tr>\n",
       "      <th>2101</th>\n",
       "      <td>33e6c944-78cc-4ce7-b105-f854a4689d54.jpg</td>\n",
       "      <td>1</td>\n",
       "      <td>4</td>\n",
       "      <td>1</td>\n",
       "      <td>0</td>\n",
       "      <td>0</td>\n",
       "      <td>1</td>\n",
       "    </tr>\n",
       "    <tr>\n",
       "      <th>2102</th>\n",
       "      <td>9af23b92-69b2-4ce0-a700-b68d05bb61a1.jpg</td>\n",
       "      <td>1</td>\n",
       "      <td>4</td>\n",
       "      <td>0</td>\n",
       "      <td>0</td>\n",
       "      <td>0</td>\n",
       "      <td>2</td>\n",
       "    </tr>\n",
       "    <tr>\n",
       "      <th>2103</th>\n",
       "      <td>bdb1c129-1d31-43d2-90d3-7480c93fac35.jpg</td>\n",
       "      <td>1</td>\n",
       "      <td>3</td>\n",
       "      <td>1</td>\n",
       "      <td>0</td>\n",
       "      <td>0</td>\n",
       "      <td>3</td>\n",
       "    </tr>\n",
       "  </tbody>\n",
       "</table>\n",
       "<p>2104 rows × 7 columns</p>\n",
       "</div>"
      ],
      "text/plain": [
       "                                      filename  cooktop  burner  brand  model  \\\n",
       "0     220d5423-5fee-4710-8fe2-acc4b01b9aed.jpg        1       3      1      0   \n",
       "1     48cbe9f7-d6ad-423d-9a69-af0c5094b7c0.jpg        1       3      1      0   \n",
       "2     1549bf4d-28e2-479d-87ac-564124d0cdfd.jpg        1       2      1      0   \n",
       "3     a543fe88-5686-4841-9eed-0ed428902d9f.jpg        1       3      1      0   \n",
       "4     5ba64b08-5223-4761-b02f-8bf34c6ce222.jpg        1       3      1      0   \n",
       "...                                        ...      ...     ...    ...    ...   \n",
       "2099  55936313-2d06-4ef8-90df-aa725d963de8.jpg        1       4      1      1   \n",
       "2100  4937e5b6-9ead-44fe-b0cb-dad6da2954f4.jpg        1       3      1      0   \n",
       "2101  33e6c944-78cc-4ce7-b105-f854a4689d54.jpg        1       4      1      0   \n",
       "2102  9af23b92-69b2-4ce0-a700-b68d05bb61a1.jpg        1       4      0      0   \n",
       "2103  bdb1c129-1d31-43d2-90d3-7480c93fac35.jpg        1       3      1      0   \n",
       "\n",
       "      induction  damage  \n",
       "0             1       0  \n",
       "1             0       0  \n",
       "2             0       0  \n",
       "3             0       0  \n",
       "4             0       0  \n",
       "...         ...     ...  \n",
       "2099          0       1  \n",
       "2100          0       3  \n",
       "2101          0       1  \n",
       "2102          0       2  \n",
       "2103          0       3  \n",
       "\n",
       "[2104 rows x 7 columns]"
      ]
     },
     "execution_count": 2,
     "metadata": {},
     "output_type": "execute_result"
    }
   ],
   "source": [
    "df = pd.read_csv('img_labels.csv')\n",
    "df"
   ]
  },
  {
   "cell_type": "code",
   "execution_count": 20,
   "id": "0cca14dd",
   "metadata": {},
   "outputs": [
    {
     "data": {
      "text/plain": [
       "induction\n",
       "0    1664\n",
       "1     222\n",
       "3     112\n",
       "2      82\n",
       "4      19\n",
       "5       4\n",
       "6       1\n",
       "Name: count, dtype: int64"
      ]
     },
     "execution_count": 20,
     "metadata": {},
     "output_type": "execute_result"
    }
   ],
   "source": [
    "df['induction'].value_counts()"
   ]
  },
  {
   "cell_type": "code",
   "execution_count": 24,
   "id": "722bb322",
   "metadata": {},
   "outputs": [],
   "source": [
    "flist = list(df[df['model']!=0]['filename'])"
   ]
  },
  {
   "cell_type": "code",
   "execution_count": 25,
   "id": "ad66a3b5",
   "metadata": {
    "scrolled": true
   },
   "outputs": [
    {
     "data": {
      "text/plain": [
       "205"
      ]
     },
     "execution_count": 25,
     "metadata": {},
     "output_type": "execute_result"
    }
   ],
   "source": [
    "len(flist)"
   ]
  },
  {
   "cell_type": "code",
   "execution_count": 27,
   "id": "b67062ea",
   "metadata": {},
   "outputs": [],
   "source": [
    "# src = 'C:\\\\Users\\\\aravi\\\\Documents\\\\Projects\\\\COVR\\\\object_detection_dataset'\n",
    "# dst = 'C:\\\\Users\\\\aravi\\\\Documents\\\\Projects\\\\COVR\\\\model_imgs'\n",
    "\n",
    "# for fname in flist:\n",
    "#     copyfile(os.path.join(src,fname), os.path.join(dst,fname))"
   ]
  },
  {
   "cell_type": "code",
   "execution_count": null,
   "id": "7ad62109",
   "metadata": {},
   "outputs": [],
   "source": []
  }
 ],
 "metadata": {
  "kernelspec": {
   "display_name": "TF_env",
   "language": "python",
   "name": "tf_env"
  },
  "language_info": {
   "codemirror_mode": {
    "name": "ipython",
    "version": 3
   },
   "file_extension": ".py",
   "mimetype": "text/x-python",
   "name": "python",
   "nbconvert_exporter": "python",
   "pygments_lexer": "ipython3",
   "version": "3.9.18"
  }
 },
 "nbformat": 4,
 "nbformat_minor": 5
}
